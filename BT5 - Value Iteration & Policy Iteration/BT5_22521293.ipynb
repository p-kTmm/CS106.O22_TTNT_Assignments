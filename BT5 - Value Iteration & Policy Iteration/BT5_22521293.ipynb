{
  "nbformat": 4,
  "nbformat_minor": 0,
  "metadata": {
    "colab": {
      "provenance": []
    },
    "kernelspec": {
      "name": "python3",
      "display_name": "Python 3"
    },
    "language_info": {
      "name": "python"
    }
  },
  "cells": [
    {
      "cell_type": "code",
      "source": [
        "!pip install gymnasium"
      ],
      "metadata": {
        "colab": {
          "base_uri": "https://localhost:8080/"
        },
        "id": "YczE55EXiYx9",
        "outputId": "168a470e-ff9b-4c0a-bdb8-db0e0412bd20"
      },
      "execution_count": null,
      "outputs": [
        {
          "output_type": "stream",
          "name": "stdout",
          "text": [
            "Collecting gymnasium\n",
            "  Downloading gymnasium-0.29.1-py3-none-any.whl (953 kB)\n",
            "\u001b[2K     \u001b[90m━━━━━━━━━━━━━━━━━━━━━━━━━━━━━━━━━━━━━━━━\u001b[0m \u001b[32m953.9/953.9 kB\u001b[0m \u001b[31m6.5 MB/s\u001b[0m eta \u001b[36m0:00:00\u001b[0m\n",
            "\u001b[?25hRequirement already satisfied: numpy>=1.21.0 in /usr/local/lib/python3.10/dist-packages (from gymnasium) (1.25.2)\n",
            "Requirement already satisfied: cloudpickle>=1.2.0 in /usr/local/lib/python3.10/dist-packages (from gymnasium) (2.2.1)\n",
            "Requirement already satisfied: typing-extensions>=4.3.0 in /usr/local/lib/python3.10/dist-packages (from gymnasium) (4.11.0)\n",
            "Collecting farama-notifications>=0.0.1 (from gymnasium)\n",
            "  Downloading Farama_Notifications-0.0.4-py3-none-any.whl (2.5 kB)\n",
            "Installing collected packages: farama-notifications, gymnasium\n",
            "Successfully installed farama-notifications-0.0.4 gymnasium-0.29.1\n"
          ]
        }
      ]
    },
    {
      "cell_type": "code",
      "metadata": {
        "id": "yhSyhfEy4XSD"
      },
      "source": [
        "import gymnasium as gym\n",
        "import numpy as np\n",
        "import time\n",
        "from IPython import display"
      ],
      "execution_count": null,
      "outputs": []
    },
    {
      "cell_type": "code",
      "metadata": {
        "id": "kHf1dAVKAcZm"
      },
      "source": [
        "env = gym.make('FrozenLake-v1', render_mode=\"ansi\")"
      ],
      "execution_count": null,
      "outputs": []
    },
    {
      "cell_type": "code",
      "metadata": {
        "colab": {
          "base_uri": "https://localhost:8080/"
        },
        "id": "5-6usoQHAmqh",
        "outputId": "a8ac8ff0-f86a-409b-c745-423d0acf2fad"
      },
      "source": [
        "env.P[0][3] # Transition model"
      ],
      "execution_count": null,
      "outputs": [
        {
          "output_type": "stream",
          "name": "stderr",
          "text": [
            "/usr/local/lib/python3.10/dist-packages/gymnasium/core.py:311: UserWarning: \u001b[33mWARN: env.P to get variables from other wrappers is deprecated and will be removed in v1.0, to get this variable you can do `env.unwrapped.P` for environment variables or `env.get_wrapper_attr('P')` that will search the reminding wrappers.\u001b[0m\n",
            "  logger.warn(\n"
          ]
        },
        {
          "output_type": "execute_result",
          "data": {
            "text/plain": [
              "[(0.3333333333333333, 1, 0.0, False),\n",
              " (0.3333333333333333, 0, 0.0, False),\n",
              " (0.3333333333333333, 0, 0.0, False)]"
            ]
          },
          "metadata": {},
          "execution_count": 4
        }
      ]
    },
    {
      "cell_type": "code",
      "metadata": {
        "colab": {
          "base_uri": "https://localhost:8080/"
        },
        "id": "wh7Su0h0AqQz",
        "outputId": "400982a1-28c0-4958-cad1-0404be732113"
      },
      "source": [
        "env.observation_space.n"
      ],
      "execution_count": null,
      "outputs": [
        {
          "output_type": "execute_result",
          "data": {
            "text/plain": [
              "16"
            ]
          },
          "metadata": {},
          "execution_count": 5
        }
      ]
    },
    {
      "cell_type": "code",
      "metadata": {
        "colab": {
          "base_uri": "https://localhost:8080/"
        },
        "id": "qZ68w5bpBScC",
        "outputId": "5e986d44-f9e0-4518-8c43-66fed7b491d7"
      },
      "source": [
        "env.action_space.n"
      ],
      "execution_count": null,
      "outputs": [
        {
          "output_type": "execute_result",
          "data": {
            "text/plain": [
              "4"
            ]
          },
          "metadata": {},
          "execution_count": 6
        }
      ]
    },
    {
      "cell_type": "code",
      "metadata": {
        "id": "VWLnvY7VBvIZ"
      },
      "source": [
        "def play(env, policy, render=False):\n",
        "    state, _ = env.reset()\n",
        "    total_reward = 0\n",
        "    steps = 0\n",
        "    done = False\n",
        "    while not done:\n",
        "        action = policy[state]\n",
        "        next_state, reward, done, info, _ = env.step(action)\n",
        "        total_reward += reward\n",
        "        steps += 1\n",
        "        if render:\n",
        "            print(env.render())\n",
        "            time.sleep(0.5)\n",
        "            if not done:\n",
        "                display.clear_output(wait=True)\n",
        "        state = next_state\n",
        "\n",
        "    return (total_reward, steps)"
      ],
      "execution_count": null,
      "outputs": []
    },
    {
      "cell_type": "code",
      "metadata": {
        "colab": {
          "base_uri": "https://localhost:8080/"
        },
        "id": "fcuDDx6rC5YE",
        "outputId": "f7da3660-e009-4c85-8d37-9109e13c7f04"
      },
      "source": [
        "policy_0 = np.asarray([0, 0, 0, 0, 0, 0, 0, 0, 0, 0, 0, 0, 0, 0, 0, 0])\n",
        "play(env, policy_0)"
      ],
      "execution_count": null,
      "outputs": [
        {
          "output_type": "execute_result",
          "data": {
            "text/plain": [
              "(0.0, 4)"
            ]
          },
          "metadata": {},
          "execution_count": 8
        }
      ]
    },
    {
      "cell_type": "code",
      "source": [
        "\n",
        "policy_0 = np.asarray([0, 0, 0, 0, 0, 0, 0, 0, 0, 0, 0, 0, 0, 0, 0, 0])\n",
        "play(env, policy_0, True)\n"
      ],
      "metadata": {
        "colab": {
          "base_uri": "https://localhost:8080/"
        },
        "id": "BJ1CJNPhDGPA",
        "outputId": "62e4cb8c-9701-43e9-c426-591910ee4564"
      },
      "execution_count": null,
      "outputs": [
        {
          "output_type": "stream",
          "name": "stdout",
          "text": [
            "  (Left)\n",
            "SFFF\n",
            "FHFH\n",
            "FFFH\n",
            "\u001b[41mH\u001b[0mFFG\n",
            "\n"
          ]
        },
        {
          "output_type": "execute_result",
          "data": {
            "text/plain": [
              "(0.0, 21)"
            ]
          },
          "metadata": {},
          "execution_count": 9
        }
      ]
    },
    {
      "cell_type": "code",
      "metadata": {
        "colab": {
          "base_uri": "https://localhost:8080/"
        },
        "id": "tdyjjtGZC9NX",
        "outputId": "88c50992-a087-45ac-8e7a-0cb45fd03bf4"
      },
      "source": [
        "policy_1 = np.asarray([0, 1, 1, 3, 1, 0, 2, 0, 1, 1, 2, 2, 3, 3, 1, 0])\n",
        "play(env, policy_1, True)"
      ],
      "execution_count": null,
      "outputs": [
        {
          "output_type": "stream",
          "name": "stdout",
          "text": [
            "  (Down)\n",
            "SFFF\n",
            "F\u001b[41mH\u001b[0mFH\n",
            "FFFH\n",
            "HFFG\n",
            "\n"
          ]
        },
        {
          "output_type": "execute_result",
          "data": {
            "text/plain": [
              "(0.0, 6)"
            ]
          },
          "metadata": {},
          "execution_count": 10
        }
      ]
    },
    {
      "cell_type": "code",
      "metadata": {
        "colab": {
          "base_uri": "https://localhost:8080/"
        },
        "id": "tt0VhyMuDasc",
        "outputId": "5b9c4c82-a18f-4a9e-d99e-6118e372baf5"
      },
      "source": [
        "policy_2 = np.array([1, 1, 1, 3, 0, 1, 2, 3, 1, 1, 2, 3, 2, 2, 1, 3])\n",
        "play(env, policy_2, True)"
      ],
      "execution_count": null,
      "outputs": [
        {
          "output_type": "stream",
          "name": "stdout",
          "text": [
            "  (Down)\n",
            "SFFF\n",
            "FHFH\n",
            "FFFH\n",
            "\u001b[41mH\u001b[0mFFG\n",
            "\n"
          ]
        },
        {
          "output_type": "execute_result",
          "data": {
            "text/plain": [
              "(0.0, 4)"
            ]
          },
          "metadata": {},
          "execution_count": 11
        }
      ]
    },
    {
      "cell_type": "code",
      "metadata": {
        "colab": {
          "base_uri": "https://localhost:8080/"
        },
        "id": "Hp6qhRFJDxWR",
        "outputId": "448bed48-f98b-41dc-f7dc-cdf1ad4a4911"
      },
      "source": [
        "policy_3 = np.array([0, 3, 0, 3, 0, 0, 0, 0, 3, 1, 0, 0, 0, 2, 1, 0])\n",
        "play(env, policy_3, True)"
      ],
      "execution_count": null,
      "outputs": [
        {
          "output_type": "stream",
          "name": "stdout",
          "text": [
            "  (Down)\n",
            "SFFF\n",
            "FHFH\n",
            "FFFH\n",
            "HFF\u001b[41mG\u001b[0m\n",
            "\n"
          ]
        },
        {
          "output_type": "execute_result",
          "data": {
            "text/plain": [
              "(1.0, 109)"
            ]
          },
          "metadata": {},
          "execution_count": 12
        }
      ]
    },
    {
      "cell_type": "code",
      "metadata": {
        "id": "JU8Q1qMxD6Po"
      },
      "source": [
        "def play_multiple_times(env, policy, max_episodes):\n",
        "    success = 0\n",
        "    list_of_steps = []\n",
        "    for i in range(max_episodes):\n",
        "        total_reward, steps = play(env, policy)\n",
        "\n",
        "        if total_reward > 0:\n",
        "            success += 1\n",
        "            list_of_steps.append(steps)\n",
        "\n",
        "    print(f'Number of successes: {success}/{max_episodes}')\n",
        "    print(f'Average number of steps: {np.mean(list_of_steps)}')\n",
        "    return success/max_episodes"
      ],
      "execution_count": null,
      "outputs": []
    },
    {
      "cell_type": "code",
      "metadata": {
        "colab": {
          "base_uri": "https://localhost:8080/"
        },
        "id": "G427z17PEmjQ",
        "outputId": "30a0be6b-41a0-4ed6-e09d-ffbacfc7015d"
      },
      "source": [
        "policy_0 = np.asarray([0, 0, 0, 0, 0, 0, 0, 0, 0, 0, 0, 0, 0, 0, 0, 0])\n",
        "play_multiple_times(env, policy_0, 1000)"
      ],
      "execution_count": null,
      "outputs": [
        {
          "output_type": "stream",
          "name": "stdout",
          "text": [
            "Number of successes: 0/1000\n",
            "Average number of steps: nan\n"
          ]
        },
        {
          "output_type": "stream",
          "name": "stderr",
          "text": [
            "/usr/local/lib/python3.10/dist-packages/numpy/core/fromnumeric.py:3504: RuntimeWarning: Mean of empty slice.\n",
            "  return _methods._mean(a, axis=axis, dtype=dtype,\n",
            "/usr/local/lib/python3.10/dist-packages/numpy/core/_methods.py:129: RuntimeWarning: invalid value encountered in scalar divide\n",
            "  ret = ret.dtype.type(ret / rcount)\n"
          ]
        },
        {
          "output_type": "execute_result",
          "data": {
            "text/plain": [
              "0.0"
            ]
          },
          "metadata": {},
          "execution_count": 14
        }
      ]
    },
    {
      "cell_type": "code",
      "metadata": {
        "colab": {
          "base_uri": "https://localhost:8080/"
        },
        "id": "H1bkhaFdDmj_",
        "outputId": "d50b4bb0-7678-436d-8327-a5a62da5bf8a"
      },
      "source": [
        "policy_1 = np.asarray([0, 1, 1, 3, 1, 0, 2, 0, 1, 1, 2, 2, 3, 3, 1, 0])\n",
        "play_multiple_times(env, policy_1, 1000)"
      ],
      "execution_count": null,
      "outputs": [
        {
          "output_type": "stream",
          "name": "stdout",
          "text": [
            "Number of successes: 67/1000\n",
            "Average number of steps: 11.164179104477611\n"
          ]
        },
        {
          "output_type": "execute_result",
          "data": {
            "text/plain": [
              "0.067"
            ]
          },
          "metadata": {},
          "execution_count": 15
        }
      ]
    },
    {
      "cell_type": "code",
      "metadata": {
        "colab": {
          "base_uri": "https://localhost:8080/"
        },
        "id": "2ZYhsb_VEtuR",
        "outputId": "1491f1dc-618a-49f3-c45b-5a66294c3ecd"
      },
      "source": [
        "policy_2 = np.array([1, 1, 1, 3, 0, 1, 2, 3, 1, 1, 2, 3, 2, 2, 1, 3])\n",
        "play_multiple_times(env, policy_2, 1000)"
      ],
      "execution_count": null,
      "outputs": [
        {
          "output_type": "stream",
          "name": "stdout",
          "text": [
            "Number of successes: 119/1000\n",
            "Average number of steps: 15.445378151260504\n"
          ]
        },
        {
          "output_type": "execute_result",
          "data": {
            "text/plain": [
              "0.119"
            ]
          },
          "metadata": {},
          "execution_count": 16
        }
      ]
    },
    {
      "cell_type": "code",
      "metadata": {
        "colab": {
          "base_uri": "https://localhost:8080/"
        },
        "id": "OvvHdMesEzTH",
        "outputId": "074961b5-ebfb-4b05-e340-45a5da28c008"
      },
      "source": [
        "policy_3 = np.array([0, 3, 0, 3, 0, 0, 0, 0, 3, 1, 0, 0, 0, 2, 1, 0])\n",
        "play_multiple_times(env, policy_3, 1000)"
      ],
      "execution_count": null,
      "outputs": [
        {
          "output_type": "stream",
          "name": "stdout",
          "text": [
            "Number of successes: 767/1000\n",
            "Average number of steps: 43.36505867014342\n"
          ]
        },
        {
          "output_type": "execute_result",
          "data": {
            "text/plain": [
              "0.767"
            ]
          },
          "metadata": {},
          "execution_count": 17
        }
      ]
    },
    {
      "cell_type": "code",
      "metadata": {
        "id": "bSomNpxJE5lP"
      },
      "source": [
        "def policy_evaluation(env, policy, max_iters=500, gamma=0.9):\n",
        "    # Initialize the values of all states to be 0\n",
        "    v_values = np.zeros(env.observation_space.n)\n",
        "\n",
        "    for i in range(max_iters):\n",
        "        prev_v_values = np.copy(v_values)\n",
        "\n",
        "        # Update the value of each state\n",
        "        for state in range(env.observation_space.n):\n",
        "            action = policy[state]\n",
        "\n",
        "            # Compute the q-value of the action\n",
        "            q_value = 0\n",
        "            for prob, next_state, reward, done in env.P[state][action]:\n",
        "                q_value += prob * (reward + gamma * prev_v_values[next_state])\n",
        "\n",
        "            v_values[state] = q_value # update v-value\n",
        "\n",
        "        # Check convergence\n",
        "        if np.all(np.isclose(v_values, prev_v_values)):\n",
        "            #print(f'Converged at {i}-th iteration.')\n",
        "            break\n",
        "\n",
        "    return v_values"
      ],
      "execution_count": null,
      "outputs": []
    },
    {
      "cell_type": "code",
      "metadata": {
        "colab": {
          "base_uri": "https://localhost:8080/"
        },
        "id": "A7IhqEOgGkQX",
        "outputId": "400a62b8-c159-411a-df7c-e550d9d61b61"
      },
      "source": [
        "policy_0 = np.asarray([0, 0, 0, 0, 0, 0, 0, 0, 0, 0, 0, 0, 0, 0, 0, 0])\n",
        "v_values_0 = policy_evaluation(env, policy_0)\n",
        "print(v_values_0)"
      ],
      "execution_count": null,
      "outputs": [
        {
          "output_type": "stream",
          "name": "stdout",
          "text": [
            "[0. 0. 0. 0. 0. 0. 0. 0. 0. 0. 0. 0. 0. 0. 0. 0.]\n"
          ]
        }
      ]
    },
    {
      "cell_type": "code",
      "metadata": {
        "colab": {
          "base_uri": "https://localhost:8080/"
        },
        "id": "zMjJKI3GGrsN",
        "outputId": "e0e92dc2-2a1a-44bb-830f-215e5207d2fa"
      },
      "source": [
        "policy_1 = np.asarray([0, 1, 1, 3, 1, 0, 2, 0, 1, 1, 2, 2, 3, 3, 1, 0])\n",
        "v_values_1 = policy_evaluation(env, policy_1)\n",
        "print(v_values_1)"
      ],
      "execution_count": null,
      "outputs": [
        {
          "output_type": "stream",
          "name": "stdout",
          "text": [
            "[0.01904157 0.01519815 0.03161906 0.02371389 0.02538879 0.\n",
            " 0.06648515 0.         0.05924054 0.13822794 0.18999823 0.\n",
            " 0.         0.21152109 0.56684236 0.        ]\n"
          ]
        }
      ]
    },
    {
      "cell_type": "code",
      "metadata": {
        "colab": {
          "base_uri": "https://localhost:8080/"
        },
        "id": "H-26M77nEfcV",
        "outputId": "60d8ea6a-8722-4b41-e26e-fc81936e0b4d"
      },
      "source": [
        "np.all(v_values_1 >= v_values_0)"
      ],
      "execution_count": null,
      "outputs": [
        {
          "output_type": "execute_result",
          "data": {
            "text/plain": [
              "True"
            ]
          },
          "metadata": {},
          "execution_count": 21
        }
      ]
    },
    {
      "cell_type": "code",
      "metadata": {
        "colab": {
          "base_uri": "https://localhost:8080/"
        },
        "id": "l49O1N8QG0S2",
        "outputId": "b5dbf89e-4236-4355-b185-198b740516ba"
      },
      "source": [
        "policy_2 = np.array([1, 1, 1, 3, 0, 1, 2, 3, 1, 1, 2, 3, 2, 2, 1, 3])\n",
        "v_values_2 = policy_evaluation(env, policy_2)\n",
        "print(v_values_2)"
      ],
      "execution_count": null,
      "outputs": [
        {
          "output_type": "stream",
          "name": "stdout",
          "text": [
            "[0.02889625 0.01951972 0.03616977 0.0271268  0.04790519 0.\n",
            " 0.07391985 0.         0.08288277 0.19339319 0.21022995 0.\n",
            " 0.         0.35153135 0.62684674 0.        ]\n"
          ]
        }
      ]
    },
    {
      "cell_type": "code",
      "metadata": {
        "colab": {
          "base_uri": "https://localhost:8080/"
        },
        "id": "22pRvreGE3Yt",
        "outputId": "04a2d050-de33-4c2c-c8c8-6c66c7beba20"
      },
      "source": [
        "np.all(v_values_2 >= v_values_1)"
      ],
      "execution_count": null,
      "outputs": [
        {
          "output_type": "execute_result",
          "data": {
            "text/plain": [
              "True"
            ]
          },
          "metadata": {},
          "execution_count": 23
        }
      ]
    },
    {
      "cell_type": "code",
      "metadata": {
        "colab": {
          "base_uri": "https://localhost:8080/"
        },
        "id": "BTYYFq6BEXDd",
        "outputId": "207f7886-d7cc-4fc0-c797-5d2acd7c5901"
      },
      "source": [
        "policy_3 = np.array([0, 3, 0, 3, 0, 0, 0, 0, 3, 1, 0, 0, 0, 2, 1, 0])\n",
        "v_values_3 = policy_evaluation(env, policy_3)\n",
        "print(v_values_3)"
      ],
      "execution_count": null,
      "outputs": [
        {
          "output_type": "stream",
          "name": "stdout",
          "text": [
            "[0.06888666 0.06141097 0.07440714 0.05580443 0.09185068 0.\n",
            " 0.11220679 0.         0.14543323 0.24749485 0.29961611 0.\n",
            " 0.         0.37993438 0.63901935 0.        ]\n"
          ]
        }
      ]
    },
    {
      "cell_type": "code",
      "metadata": {
        "colab": {
          "base_uri": "https://localhost:8080/"
        },
        "id": "zcEfU3NYE7xN",
        "outputId": "dc71669e-adc1-4f1e-bb16-6bd0598c1760"
      },
      "source": [
        "np.all(v_values_3 >= v_values_2)"
      ],
      "execution_count": null,
      "outputs": [
        {
          "output_type": "execute_result",
          "data": {
            "text/plain": [
              "True"
            ]
          },
          "metadata": {},
          "execution_count": 25
        }
      ]
    },
    {
      "cell_type": "code",
      "metadata": {
        "id": "uh4akjMSHJBF"
      },
      "source": [
        "def value_iteration(env, max_iters=500, gamma=0.9):\n",
        "    # initialize\n",
        "    converged=0\n",
        "    v_values = np.zeros(env.observation_space.n)\n",
        "\n",
        "    for i in range(max_iters):\n",
        "        prev_v_values = np.copy(v_values)\n",
        "\n",
        "        # update the v-value for each state\n",
        "        for state in range(env.observation_space.n):\n",
        "            q_values = []\n",
        "\n",
        "            # compute the q-value for each action that we can perform at the state\n",
        "            for action in range(env.action_space.n):\n",
        "                q_value = 0\n",
        "                # loop through each possible outcome\n",
        "                for prob, next_state, reward, done in env.P[state][action]:\n",
        "                    q_value += prob * (reward + gamma * prev_v_values[next_state])\n",
        "\n",
        "                q_values.append(q_value)\n",
        "\n",
        "            # select the max q-values\n",
        "            best_action = np.argmax(q_values)\n",
        "            v_values[state] = q_values[best_action]\n",
        "\n",
        "        # check convergence\n",
        "        if np.all(np.isclose(v_values, prev_v_values)):\n",
        "            converged=i\n",
        "            print(f'Converged at {i}-th iteration.')\n",
        "            break\n",
        "\n",
        "    return v_values, converged"
      ],
      "execution_count": null,
      "outputs": []
    },
    {
      "cell_type": "code",
      "metadata": {
        "colab": {
          "base_uri": "https://localhost:8080/"
        },
        "id": "r8xAljw7VuMP",
        "outputId": "62402205-e863-463a-cc77-e84a04d8f45a"
      },
      "source": [
        "optimal_v_values,_ = value_iteration(env, max_iters=500, gamma=0.9)"
      ],
      "execution_count": null,
      "outputs": [
        {
          "output_type": "stream",
          "name": "stdout",
          "text": [
            "Converged at 79-th iteration.\n"
          ]
        }
      ]
    },
    {
      "cell_type": "code",
      "metadata": {
        "colab": {
          "base_uri": "https://localhost:8080/"
        },
        "id": "i7g9VA3lV2WW",
        "outputId": "33d28112-7425-4131-b50f-9561ad135c8a"
      },
      "source": [
        "optimal_v_values"
      ],
      "execution_count": null,
      "outputs": [
        {
          "output_type": "execute_result",
          "data": {
            "text/plain": [
              "array([0.06888615, 0.06141054, 0.07440682, 0.05580409, 0.09185022,\n",
              "       0.        , 0.11220663, 0.        , 0.14543286, 0.2474946 ,\n",
              "       0.29961593, 0.        , 0.        , 0.3799342 , 0.63901926,\n",
              "       0.        ])"
            ]
          },
          "metadata": {},
          "execution_count": 28
        }
      ]
    },
    {
      "cell_type": "code",
      "metadata": {
        "id": "jb0an7gaV39e"
      },
      "source": [
        "def policy_extraction(env, v_values, gamma=0.9):\n",
        "    # initialize\n",
        "    policy = np.zeros(env.observation_space.n, dtype=np.int32)\n",
        "\n",
        "    # loop through each state in the environment\n",
        "    for state in range(env.observation_space.n):\n",
        "        q_values = []\n",
        "        # loop through each action\n",
        "        for action in range(env.action_space.n):\n",
        "            q_value = 0\n",
        "            # loop each possible outcome\n",
        "            for prob, next_state, reward, done in env.P[state][action]:\n",
        "                q_value += prob * (reward + gamma * v_values[next_state])\n",
        "\n",
        "            q_values.append(q_value)\n",
        "\n",
        "        # select the best action\n",
        "        best_action = np.argmax(q_values)\n",
        "        policy[state] = best_action\n",
        "\n",
        "    return policy"
      ],
      "execution_count": null,
      "outputs": []
    },
    {
      "cell_type": "code",
      "metadata": {
        "id": "7TGCF4G7XErH"
      },
      "source": [
        "optimal_policy = policy_extraction(env, optimal_v_values, gamma=0.9)"
      ],
      "execution_count": null,
      "outputs": []
    },
    {
      "cell_type": "code",
      "source": [
        "optimal_policy"
      ],
      "metadata": {
        "colab": {
          "base_uri": "https://localhost:8080/"
        },
        "id": "qkHYtfm4qikV",
        "outputId": "6b80bac6-ac4d-4e10-8b91-64f751addfe7"
      },
      "execution_count": null,
      "outputs": [
        {
          "output_type": "execute_result",
          "data": {
            "text/plain": [
              "array([0, 3, 0, 3, 0, 0, 0, 0, 3, 1, 0, 0, 0, 2, 1, 0], dtype=int32)"
            ]
          },
          "metadata": {},
          "execution_count": 31
        }
      ]
    },
    {
      "cell_type": "code",
      "source": [
        "play(env, optimal_policy, True)"
      ],
      "metadata": {
        "colab": {
          "base_uri": "https://localhost:8080/"
        },
        "id": "1Ww12Uh5qCUb",
        "outputId": "99349e2a-16f2-45be-dcae-a53cc7f145ae"
      },
      "execution_count": null,
      "outputs": [
        {
          "output_type": "stream",
          "name": "stdout",
          "text": [
            "  (Down)\n",
            "SFFF\n",
            "FHFH\n",
            "FFFH\n",
            "HFF\u001b[41mG\u001b[0m\n",
            "\n"
          ]
        },
        {
          "output_type": "execute_result",
          "data": {
            "text/plain": [
              "(1.0, 34)"
            ]
          },
          "metadata": {},
          "execution_count": 32
        }
      ]
    },
    {
      "cell_type": "code",
      "metadata": {
        "colab": {
          "base_uri": "https://localhost:8080/"
        },
        "id": "5-m4ZqWZXKqG",
        "outputId": "4dc1ac4a-2d9c-4e0e-c362-23734810a9ed"
      },
      "source": [
        "play_multiple_times(env, optimal_policy, 1000)"
      ],
      "execution_count": null,
      "outputs": [
        {
          "output_type": "stream",
          "name": "stdout",
          "text": [
            "Number of successes: 785/1000\n",
            "Average number of steps: 42.94522292993631\n"
          ]
        },
        {
          "output_type": "execute_result",
          "data": {
            "text/plain": [
              "0.785"
            ]
          },
          "metadata": {},
          "execution_count": 33
        }
      ]
    },
    {
      "cell_type": "markdown",
      "source": [
        "# Policy_iteration"
      ],
      "metadata": {
        "id": "ShXsLHYliyuP"
      }
    },
    {
      "cell_type": "code",
      "source": [
        "def policy_iteration(env, max_iters=500, gamma=0.9):\n",
        "    # initialize\n",
        "    converged=0\n",
        "    policy = np.zeros(env.observation_space.n, dtype=np.int32)\n",
        "\n",
        "    for i in range(max_iters):\n",
        "        prev_policy = np.copy(policy)\n",
        "\n",
        "        # policy evaluation\n",
        "        v_values = policy_evaluation(env, policy, max_iters=max_iters, gamma=gamma)\n",
        "\n",
        "        # policy improvement\n",
        "        policy = policy_extraction(env, v_values, gamma=gamma)\n",
        "\n",
        "        # Check convergence\n",
        "        if np.all(np.isclose(policy, prev_policy)):\n",
        "            converged=i\n",
        "            print(f'Converged at {i}-th iteration.')\n",
        "            break\n",
        "\n",
        "    return policy, converged"
      ],
      "metadata": {
        "id": "GVUb7vSyegZt"
      },
      "execution_count": null,
      "outputs": []
    },
    {
      "cell_type": "code",
      "source": [
        "runtimes1 = []\n",
        "winrates1 = []\n",
        "converged1 = []\n",
        "\n",
        "runtimes = []\n",
        "winrates = []\n",
        "converged = []\n"
      ],
      "metadata": {
        "id": "z2R8WlYk3meT"
      },
      "execution_count": null,
      "outputs": []
    },
    {
      "cell_type": "markdown",
      "source": [
        "# START"
      ],
      "metadata": {
        "id": "XVdiaX9Tiyxl"
      }
    },
    {
      "cell_type": "markdown",
      "source": [
        "**ENV1: FrozenLake-v1**"
      ],
      "metadata": {
        "id": "NbPYpD7Kiy4b"
      }
    },
    {
      "cell_type": "code",
      "source": [
        "print(\"Value_iteration_FrozenLake-v1\")\n",
        "start=time.time()\n",
        "optimal_v_values1,i=value_iteration(env)\n",
        "optimal_policy1=policy_extraction(env, optimal_v_values1, gamma=0.9)\n",
        "end=time.time()\n",
        "print('Time: ',end-start)\n",
        "winrate=play_multiple_times(env, optimal_policy1, 1000)\n",
        "runtimes1.append(end-start)\n",
        "winrates1.append(winrate)\n",
        "converged1.append(i)\n",
        "\n",
        "print(\"\")\n",
        "print(\"\")\n",
        "\n",
        "print(\"Policy_iteration_FrozenLake-v1\")\n",
        "start=time.time()\n",
        "policy_iter1,i=policy_iteration(env)\n",
        "end=time.time()\n",
        "print('Time: ',end-start)\n",
        "winrate=play_multiple_times(env, policy_iter1, 1000)\n",
        "runtimes.append(end-start)\n",
        "winrates.append(winrate)\n",
        "converged.append(i)"
      ],
      "metadata": {
        "id": "Kkjxjcsliz97"
      },
      "execution_count": null,
      "outputs": []
    },
    {
      "cell_type": "markdown",
      "source": [
        "**ENV2: FrozenLake8x8-v1**"
      ],
      "metadata": {
        "id": "GIRIePmaj54p"
      }
    },
    {
      "cell_type": "code",
      "source": [
        "env2 = gym.make('FrozenLake8x8-v1')"
      ],
      "metadata": {
        "id": "0yrAyOfNkIJ9"
      },
      "execution_count": null,
      "outputs": []
    },
    {
      "cell_type": "code",
      "source": [
        "print(\"Value_iteration_FrozenLake8x8-v1\")\n",
        "start=time.time()\n",
        "optimal_v_values2,i=value_iteration(env2)\n",
        "optimal_policy2=policy_extraction(env2, optimal_v_values2, gamma=0.9)\n",
        "end=time.time()\n",
        "print('Time: ',end-start)\n",
        "winrate=play_multiple_times(env2, optimal_policy2, 1000)\n",
        "runtimes1.append(end-start)\n",
        "winrates1.append(winrate)\n",
        "converged1.append(i)\n",
        "\n",
        "print(\"\")\n",
        "print(\"\")\n",
        "\n",
        "print(\"Policy_iteration_FrozenLake8x8-v1\")\n",
        "start=time.time()\n",
        "policy_iter2,i=policy_iteration(env2)\n",
        "end=time.time()\n",
        "print('Time: ',end-start)\n",
        "winrate=play_multiple_times(env2, policy_iter2, 1000)\n",
        "runtimes.append(end-start)\n",
        "winrates.append(winrate)\n",
        "converged.append(i)"
      ],
      "metadata": {
        "id": "SNPm_lxhjikI"
      },
      "execution_count": null,
      "outputs": []
    },
    {
      "cell_type": "markdown",
      "source": [
        "**ENV3: Taxi-v3**"
      ],
      "metadata": {
        "id": "9d5a4KfskAfS"
      }
    },
    {
      "cell_type": "code",
      "source": [
        "env3 = gym.make('Taxi-v3')"
      ],
      "metadata": {
        "id": "3ICEs6yXkaLv"
      },
      "execution_count": null,
      "outputs": []
    },
    {
      "cell_type": "code",
      "source": [
        "print(\"Value_iteration_Taxi-v3\")\n",
        "start=time.time()\n",
        "optimal_v_values3,i=value_iteration(env3)\n",
        "optimal_policy3=policy_extraction(env3, optimal_v_values3, gamma=0.9)\n",
        "end=time.time()\n",
        "print('Time: ',end-start)\n",
        "winrate=play_multiple_times(env3, optimal_policy3, 1000)\n",
        "runtimes1.append(end-start)\n",
        "winrates1.append(winrate)\n",
        "converged1.append(i)\n",
        "\n",
        "print(\"\")\n",
        "print(\"\")\n",
        "\n",
        "print(\"Policy_iteration_Taxi-v3\")\n",
        "start=time.time()\n",
        "policy_iter3,i=policy_iteration(env3)\n",
        "end=time.time()\n",
        "print('Time: ',end-start)\n",
        "winrate=play_multiple_times(env3, policy_iter3, 1000)\n",
        "runtimes.append(end-start)\n",
        "winrates.append(winrate)\n",
        "converged.append(i)"
      ],
      "metadata": {
        "id": "xIuCO6DckbHn"
      },
      "execution_count": null,
      "outputs": []
    },
    {
      "cell_type": "markdown",
      "source": [
        " # Plot và nhận xét"
      ],
      "metadata": {
        "id": "jYEa3SfsmEvy"
      }
    },
    {
      "cell_type": "code",
      "source": [
        "import pandas as  pd"
      ],
      "metadata": {
        "id": "jD80KrRTkyU5"
      },
      "execution_count": null,
      "outputs": []
    },
    {
      "cell_type": "code",
      "source": [
        "runtime_df = pd.DataFrame([runtimes1,runtimes], columns=['FrozenLake-v0', 'FrozenLake8x8-v0', 'taxi-v3'],\n",
        "                          index=['Value Iteration', 'Policy Iteration'])\n",
        "winrate_df = pd.DataFrame([winrates1,winrates], columns=['FrozenLake-v0', 'FrozenLake8x8-v0', 'taxi-v3'],\n",
        "                          index=['Value Iteration', 'Policy Iteration'])\n",
        "converged_df = pd.DataFrame([converged1,converged], columns=['FrozenLake-v0', 'FrozenLake8x8-v0', 'taxi-v3'],\n",
        "                          index=['Value Iteration', 'Policy Iteration'])\n",
        "runtime_df.columns = pd.MultiIndex.from_product([['RUNTIME'], runtime_df.columns.tolist()])\n",
        "winrate_df.columns = pd.MultiIndex.from_product([['WINRATE'], winrate_df.columns.tolist()])\n",
        "converged_df.columns = pd.MultiIndex.from_product([['CONVERGED AT (iter)'], converged_df.columns.tolist()])\n",
        "\n",
        "display.display(runtime_df)\n",
        "print(\"\\n-----------------------------------------------------------\")\n",
        "display.display(winrate_df)\n",
        "print(\"\\n-----------------------------------------------------------\")\n",
        "display.display(converged_df)"
      ],
      "metadata": {
        "id": "X0pKk0pO8UNR"
      },
      "execution_count": null,
      "outputs": []
    },
    {
      "cell_type": "markdown",
      "source": [
        "# Nhận xét\n",
        "\n",
        "\n"
      ],
      "metadata": {
        "id": "_5VvM4rD_lzg"
      }
    },
    {
      "cell_type": "markdown",
      "source": [
        "![image.png](data:image/png;base64,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)"
      ],
      "metadata": {
        "id": "ZoQabcr_sSQs"
      }
    },
    {
      "cell_type": "markdown",
      "source": [
        "**1. Thời Gian Chạy (RUNTIME):**\n",
        "- Trong cả ba trò chơi, Policy Iteration mất nhiều thời gian hơn so với Value Iteration. Điều này do:\n",
        "  + Policy Iteration đòi hỏi hai bước lặp chính: đánh giá chiến lược *(policy_evalution)* và cải tiến chiến lược *(policy_improvement)*, trong đó đánh giá chiến lược có thể rất tốn thời gian, đặc biệt khi phải đảm bảo chiến lược ổn định trước khi chuyển sang cải tiến chiến lược.\n",
        "  + Value Iteration chỉ tập trung vào việc cập nhật *state-value function*.\n",
        "\n",
        "\n",
        "**2. Tỷ Lệ Thắng (WINRATE):** Tỷ lệ thắng vẫn ở mức cao và gần như là tương đồng giữa Policy Iteration và Value Iteration\n",
        "\n",
        "**3. Số Lần Lặp Để Hội Tụ (CONVERGED AT):**\n",
        "Dù Policy Iteration mất nhiều thời gian hơn để chạy, nó lại cần ít lần lặp hơn để hội tụ so với Value Iteration."
      ],
      "metadata": {
        "id": "GrTfjFuZt8D8"
      }
    },
    {
      "cell_type": "code",
      "source": [],
      "metadata": {
        "id": "4y4vMj_NviBb"
      },
      "execution_count": null,
      "outputs": []
    }
  ]
}